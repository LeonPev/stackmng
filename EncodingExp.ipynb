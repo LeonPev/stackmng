{
 "cells": [
  {
   "cell_type": "code",
   "execution_count": 1,
   "metadata": {},
   "outputs": [
    {
     "name": "stderr",
     "output_type": "stream",
     "text": [
      "/Users/leon/Desktop/jb/python_advanced/bitahon20230731/day3/stackmng/venv/lib/python3.10/site-packages/tqdm/auto.py:21: TqdmWarning: IProgress not found. Please update jupyter and ipywidgets. See https://ipywidgets.readthedocs.io/en/stable/user_install.html\n",
      "  from .autonotebook import tqdm as notebook_tqdm\n"
     ]
    }
   ],
   "source": [
    "from transformers import AutoTokenizer, AutoModel\n",
    "import torch\n",
    "from sklearn.metrics.pairwise import cosine_similarity"
   ]
  },
  {
   "cell_type": "code",
   "execution_count": 3,
   "metadata": {},
   "outputs": [
    {
     "name": "stderr",
     "output_type": "stream",
     "text": [
      "Downloading (…)okenizer_config.json: 100%|██████████| 973/973 [00:00<00:00, 375kB/s]\n",
      "Downloading (…)olve/main/vocab.json: 100%|██████████| 777k/777k [00:00<00:00, 1.43MB/s]\n",
      "Downloading (…)olve/main/merges.txt: 100%|██████████| 442k/442k [00:00<00:00, 1.56MB/s]\n",
      "Downloading (…)/main/tokenizer.json: 100%|██████████| 2.06M/2.06M [00:00<00:00, 3.97MB/s]\n",
      "Downloading (…)cial_tokens_map.json: 100%|██████████| 532/532 [00:00<00:00, 1.64MB/s]\n",
      "Downloading (…)lve/main/config.json: 100%|██████████| 667/667 [00:00<00:00, 663kB/s]\n",
      "Downloading pytorch_model.bin: 100%|██████████| 499M/499M [02:12<00:00, 3.77MB/s] \n"
     ]
    }
   ],
   "source": [
    "tokenizer = AutoTokenizer.from_pretrained(\"bigcode/starencoder\")\n",
    "model = AutoModel.from_pretrained(\"bigcode/starencoder\")"
   ]
  },
  {
   "cell_type": "code",
   "execution_count": 9,
   "metadata": {},
   "outputs": [],
   "source": [
    "def get_similarity(text1, text2):\n",
    "    # Tokenize the texts\n",
    "    encoded_text1 = tokenizer.encode(text1, add_special_tokens=True)\n",
    "    encoded_text2 = tokenizer.encode(text2, add_special_tokens=True)\n",
    "\n",
    "    # Define the maximum length for padding\n",
    "    max_length = max(len(encoded_text1), len(encoded_text2))\n",
    "\n",
    "    # Pad the encoded texts manually\n",
    "    padded_text1 = encoded_text1 + [0] * (max_length - len(encoded_text1))\n",
    "    padded_text2 = encoded_text2 + [0] * (max_length - len(encoded_text2))\n",
    "\n",
    "    # Convert the padded texts to tensors\n",
    "    padded_text1_tensor = torch.tensor(padded_text1).unsqueeze(0)\n",
    "    padded_text2_tensor = torch.tensor(padded_text2).unsqueeze(0)\n",
    "\n",
    "    # Generate the embeddings for the padded texts using the model\n",
    "    with torch.no_grad():\n",
    "        embeddings_text1 = model(padded_text1_tensor).last_hidden_state.mean(dim=1)\n",
    "        embeddings_text2 = model(padded_text2_tensor).last_hidden_state.mean(dim=1)\n",
    "\n",
    "    # Calculate the cosine similarity between the embeddings\n",
    "    similarity_score = cosine_similarity(embeddings_text1, embeddings_text2)[0][0]\n",
    "    return similarity_score"
   ]
  },
  {
   "cell_type": "code",
   "execution_count": 10,
   "metadata": {},
   "outputs": [
    {
     "name": "stdout",
     "output_type": "stream",
     "text": [
      "Similarity score: 0.92662966\n"
     ]
    }
   ],
   "source": [
    "# Define your texts\n",
    "text1 = \"I like Wombats for a reason.\"\n",
    "text2 = \"A very different one speaking about animals having square poop\"\n",
    "\n",
    "similarity_score = get_similarity(text1=text1, text2=text2)\n",
    "\n",
    "# Print the similarity score\n",
    "print(\"Similarity score:\", similarity_score)\n"
   ]
  },
  {
   "cell_type": "code",
   "execution_count": 19,
   "metadata": {},
   "outputs": [],
   "source": [
    "crawler1_path = \"testing_embeding/crawler1.py\"\n",
    "crawler2_path = \"testing_embeding/crawler2.py\"\n",
    "snake_path = \"testing_embeding/snake.py\"\n",
    "\n",
    "code_examples = []\n",
    "\n",
    "with open(crawler1_path, 'r') as f:\n",
    "    code_examples.append(('crawler1', f.read()))\n",
    "with open(crawler2_path, 'r') as f:\n",
    "    code_examples.append(('crawler2', f.read()))\n",
    "with open(snake_path, 'r') as f:\n",
    "    code_examples.append(('snake', f.read()))\n",
    "\n",
    "code_examples.extend([('snake questing', 'how do i write a snake game in python'),\n",
    "                      ('crawler question 1', 'how do i crawl the web with python'),\n",
    "                      ('crawler question 2', 'how to scrape the net with python')])"
   ]
  },
  {
   "cell_type": "code",
   "execution_count": 20,
   "metadata": {},
   "outputs": [
    {
     "name": "stdout",
     "output_type": "stream",
     "text": [
      "similarity between crawler1 and crawler2: 0.9679924249649048\n",
      "similarity between crawler1 and snake: 0.5613067746162415\n",
      "similarity between crawler1 and snake questing: 0.507878839969635\n",
      "similarity between crawler1 and crawler question 1: 0.5067800283432007\n",
      "similarity between crawler1 and crawler question 2: 0.5064317584037781\n",
      "similarity between crawler2 and crawler1: 0.9679924249649048\n",
      "similarity between crawler2 and snake: 0.6073487401008606\n",
      "similarity between crawler2 and snake questing: 0.4860556125640869\n",
      "similarity between crawler2 and crawler question 1: 0.48266953229904175\n",
      "similarity between crawler2 and crawler question 2: 0.48531633615493774\n",
      "similarity between snake and crawler1: 0.5613067746162415\n",
      "similarity between snake and crawler2: 0.6073487401008606\n",
      "similarity between snake and snake questing: 0.4142509698867798\n",
      "similarity between snake and crawler question 1: 0.4103277027606964\n",
      "similarity between snake and crawler question 2: 0.41300565004348755\n",
      "similarity between snake questing and crawler1: 0.507878839969635\n",
      "similarity between snake questing and crawler2: 0.4860556125640869\n",
      "similarity between snake questing and snake: 0.4142509698867798\n",
      "similarity between snake questing and crawler question 1: 0.9781790971755981\n",
      "similarity between snake questing and crawler question 2: 0.962197482585907\n",
      "similarity between crawler question 1 and crawler1: 0.5067800283432007\n",
      "similarity between crawler question 1 and crawler2: 0.48266953229904175\n",
      "similarity between crawler question 1 and snake: 0.4103277027606964\n",
      "similarity between crawler question 1 and snake questing: 0.9781790971755981\n",
      "similarity between crawler question 1 and crawler question 2: 0.9813494086265564\n",
      "similarity between crawler question 2 and crawler1: 0.5064317584037781\n",
      "similarity between crawler question 2 and crawler2: 0.48531633615493774\n",
      "similarity between crawler question 2 and snake: 0.41300565004348755\n",
      "similarity between crawler question 2 and snake questing: 0.962197482585907\n",
      "similarity between crawler question 2 and crawler question 1: 0.9813494086265564\n"
     ]
    }
   ],
   "source": [
    "from itertools import permutations\n",
    "\n",
    "# Get all permutations of pairs\n",
    "pair_permutations = list(permutations(code_examples, 2))\n",
    "\n",
    "# Print the pair permutations\n",
    "for pair in pair_permutations:\n",
    "    print(f'similarity between {pair[0][0]} and {pair[1][0]}: {get_similarity(text1=pair[0][1], text2=pair[1][1])}')\n"
   ]
  },
  {
   "cell_type": "code",
   "execution_count": null,
   "metadata": {},
   "outputs": [],
   "source": []
  }
 ],
 "metadata": {
  "kernelspec": {
   "display_name": "venv",
   "language": "python",
   "name": "python3"
  },
  "language_info": {
   "codemirror_mode": {
    "name": "ipython",
    "version": 3
   },
   "file_extension": ".py",
   "mimetype": "text/x-python",
   "name": "python",
   "nbconvert_exporter": "python",
   "pygments_lexer": "ipython3",
   "version": "3.10.6"
  },
  "orig_nbformat": 4
 },
 "nbformat": 4,
 "nbformat_minor": 2
}
